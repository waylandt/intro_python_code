{
  "nbformat": 4,
  "nbformat_minor": 0,
  "metadata": {
    "colab": {
      "name": "HW1_Tsai_Wayland.ipynb",
      "provenance": [],
      "collapsed_sections": []
    },
    "kernelspec": {
      "name": "python3",
      "display_name": "Python 3"
    }
  },
  "cells": [
    {
      "cell_type": "markdown",
      "metadata": {
        "id": "hm8RAKinXsIP"
      },
      "source": [
        "## **Homework 1**\n",
        "\n",
        "### Create a copy of the notebook to start answering the questions. Name your notebook in the format HW1_lastname_firstname.ipynb to facilitate the grading process. \n",
        "\n",
        "### Answer all the questions, test your code to ensure there are no errors and the results are as expected. Once you have answered all the questions, save the final copy, then go to File-> click on Download.ipynb. Once the local copy has been downloaded, submit your file on Blackboard under the corresponding assignment section. Also provide us a link to your notebook during submission. \n",
        "\n",
        "### **The due date of this homework is 02/05/2021 (Friday).**\n",
        "\n",
        "### Please ensure you follow all the steps mentioned in the homework.\n",
        "\n",
        "### All the questions have a sample input and output to help you understand the question. Please note that your programs will be tested for other sets of inputs and outputs along with the sample provided. So test your code for other inputs.\n",
        "\n",
        "### You can submit your solutions any number of times until the deadline.\n"
      ]
    },
    {
      "cell_type": "markdown",
      "metadata": {
        "id": "uacFrEaZfcfq"
      },
      "source": [
        "##### Q1. Write a program that prompts the user to enter a password then prints the length of the password.\n",
        "\n",
        "```\n",
        "Enter your password: hello\n",
        "Your password is 5 long.\n",
        "```\n",
        "\n",
        "\n"
      ]
    },
    {
      "cell_type": "code",
      "metadata": {
        "id": "avPyES14ftCt",
        "colab": {
          "base_uri": "https://localhost:8080/"
        },
        "outputId": "f8b2e7e7-73c6-42f3-ff54-9acbe56a9097"
      },
      "source": [
        "# Type solution here\n",
        "password = input(\"Enter your password: \")\n",
        "length = str(len(password))\n",
        "print(\"Your password is \" + length + \" long.\")"
      ],
      "execution_count": 74,
      "outputs": [
        {
          "output_type": "stream",
          "text": [
            "Enter your password: vfes\n",
            "Your password is 4 long.\n"
          ],
          "name": "stdout"
        }
      ]
    },
    {
      "cell_type": "markdown",
      "metadata": {
        "id": "ekh-kABuItli"
      },
      "source": [
        ""
      ]
    },
    {
      "cell_type": "markdown",
      "metadata": {
        "id": "K1yko-xUItU3"
      },
      "source": [
        ""
      ]
    },
    {
      "cell_type": "markdown",
      "metadata": {
        "id": "behD0j_Of2TW"
      },
      "source": [
        "##### Q2. Write a program that prompts the user to enter their full name then prints the number of characters in their name (do not count spaces).\n",
        "\n",
        "```\n",
        "What is your name? Amulya Katti\n",
        "Amulya Katti your name has 11 characters.\n",
        "```"
      ]
    },
    {
      "cell_type": "code",
      "metadata": {
        "id": "XSdIRjwlhSlu",
        "colab": {
          "base_uri": "https://localhost:8080/"
        },
        "outputId": "c8f737e1-2a01-41a0-cced-b129f58e2799"
      },
      "source": [
        "# Type solution here\n",
        "name = input(\"What is your name? \")\n",
        "# subtracts spaces\n",
        "characters = str(len(name) - name.count(' '))\n",
        "print(name,\"your name has\", characters, \"characters.\")"
      ],
      "execution_count": 75,
      "outputs": [
        {
          "output_type": "stream",
          "text": [
            "What is your name? Wayland Tsai\n",
            "Wayland Tsai your name has 11 characters.\n"
          ],
          "name": "stdout"
        }
      ]
    },
    {
      "cell_type": "markdown",
      "metadata": {
        "id": "5KHOWF6FhVHV"
      },
      "source": [
        "##### Q3. Write a program that prompts the user to enter a month (as a number), then prints the name of the month and the number of days in that month. Ensure that the user inputs a valid month and handle any error cases.\n",
        "\n",
        "```\n",
        "Enter the month number: 9\n",
        "September has 30 days\n",
        "```"
      ]
    },
    {
      "cell_type": "code",
      "metadata": {
        "id": "KhS-SAEThyTG",
        "colab": {
          "base_uri": "https://localhost:8080/"
        },
        "outputId": "d99fd5f3-6e59-426b-85d3-a7e01a466576"
      },
      "source": [
        "# Type solution here\n",
        "months = [\"January\",\"February\",\"March\",\"April\",\"May\",\"June\",\"July\",\"August\",\"September\",\"October\",\"November\",\"December\"]\n",
        "month = input(\"Enter the month number: \")\n",
        "validity = False\n",
        "while validity == False:\n",
        "  if month.isdigit() and int(month) >= 1 and int(month) <=12:\n",
        "    if int(month) == 1 or int(month) == 3 or int(month) == 5 or int(month) == 7 or int(month) == 8 or int(month) == 10 or int(month) == 12:\n",
        "      print(months[int(month)-1] + \" has \" + str(31) + \" days\")\n",
        "      validity = True\n",
        "    elif int(month) == 2 or int(month) == 4 or int(month) == 6 or int(month) == 9 or int(month) == 11:\n",
        "      print(months[int(month)-1] + \" has \" + str(30) + \" days\")\n",
        "      validity = True\n",
        "  else:\n",
        "    print(\"Invalid input!\")\n",
        "    month = input(\"Enter the month number: \")\n",
        "    validity = False"
      ],
      "execution_count": 78,
      "outputs": [
        {
          "output_type": "stream",
          "text": [
            "Enter the month number: 88\n",
            "Invalid input!\n",
            "Enter the month number: 8\n",
            "August has 31 days\n"
          ],
          "name": "stdout"
        }
      ]
    },
    {
      "cell_type": "markdown",
      "metadata": {
        "id": "O7lnAdGlh6Xa"
      },
      "source": [
        "##### Q4. Write a program that prompts the user to enter a loan amount, annual interest rate, and number of years  for a car loan. Then calculate and print the monthly payment amount.\n",
        "\n",
        "Note:\n",
        "```\n",
        "PMT= [PV*i*((1+i)^n)]/[((1+i)^n)-1]\n",
        "```\n",
        "PMT is the monthly payment\n",
        "\n",
        "PV is the loan amount\n",
        "\n",
        "i is the interest rate per month in decimal form (interest rate percentage divided by 12)\n",
        "\n",
        "n is the number of months (term of the loan in months)\n",
        "\n",
        "```\n",
        "Loan Amount: 30000.00\n",
        "Annual Interest Rate: 4.00\n",
        "Years: 5\n",
        "Your monthly payment is: $552.50\n",
        "```"
      ]
    },
    {
      "cell_type": "code",
      "metadata": {
        "id": "p4B5JH5GiTs9",
        "colab": {
          "base_uri": "https://localhost:8080/"
        },
        "outputId": "2cb2e7b0-3c2b-47cf-bd66-ad069154a6d5"
      },
      "source": [
        "# Type solution here\n",
        "PV = float(input(\"Loan Amount: \"))\n",
        "annual = float(input(\"Annual Interest Rate: \"))\n",
        "years = int(input(\"Years: \"))\n",
        "i = annual* 0.01 / 12.0\n",
        "n = years * 12\n",
        "PMT= str((PV*i*((1+i)**n))/(((1+i)**n)-1))\n",
        "print(\"Your monthly payment is: $\" + PMT)\n"
      ],
      "execution_count": 79,
      "outputs": [
        {
          "output_type": "stream",
          "text": [
            "Loan Amount: 30000.00\n",
            "Annual Interest Rate: 4.00\n",
            "Years: 5\n",
            "Your monthly payment is: $552.4956616579791\n"
          ],
          "name": "stdout"
        }
      ]
    },
    {
      "cell_type": "markdown",
      "metadata": {
        "id": "SjiolJKgiWV-"
      },
      "source": [
        "##### Q5. Write a program to that prompts the user to enter a string. Then check whether or not the string is a palindrome.\n",
        "\n",
        "```\n",
        "Enter a string: Madam\n",
        "Madam, is a palindrome!\n",
        "```"
      ]
    },
    {
      "cell_type": "code",
      "metadata": {
        "id": "F5_M934Ri0es",
        "colab": {
          "base_uri": "https://localhost:8080/"
        },
        "outputId": "00bd98fb-d3e2-4ce6-d115-1186402bfc59"
      },
      "source": [
        "# Type solution here\n",
        "def isPalin(str):\n",
        "  for i in range(0,int(len(str)/2)):\n",
        "    if str[i] != str[len(str)-1-i]:\n",
        "      return False \n",
        "  # no need for an else statement    \n",
        "  return True\n",
        "\n",
        "user_Input = input(\"Enter a string: \")\n",
        "yes_Or_No = isPalin(user_Input.lower())\n",
        "if yes_Or_No:\n",
        "  print(user_Input + \", is a palindrome!\")\n",
        "else:\n",
        "  print(user_Input + \", is NOT a palindrome!\")"
      ],
      "execution_count": 88,
      "outputs": [
        {
          "output_type": "stream",
          "text": [
            "Enter a string: Way\n",
            "Way, is NOT a palindrome!\n"
          ],
          "name": "stdout"
        }
      ]
    },
    {
      "cell_type": "markdown",
      "metadata": {
        "id": "BLBD6n9vkJEu"
      },
      "source": [
        "##### Q6. Write a program to compute and print all possible combinations of change for \\$1. Denominations to be considered – quarter, dime, nickel, penny.\n",
        "\n",
        "Hint: Use nested loops (loops within loops for the various denominations of coins)\n",
        "\n",
        "```\n",
        "Change for $1:\n",
        "0 quarters, 0 dimes, 0 nickels, 100 pennies\n",
        "…\n",
        "4 quarters, 0 dimes, 0 nickels, 0 pennies\n",
        "```"
      ]
    },
    {
      "cell_type": "code",
      "metadata": {
        "id": "kAQsTjwDkZZ5",
        "colab": {
          "base_uri": "https://localhost:8080/"
        },
        "outputId": "125d524b-b20b-4def-d8e3-8cdacf7d90de"
      },
      "source": [
        "# Type solution here\n",
        "for Q in range(5):\n",
        "  for D in range(11):\n",
        "    for N in range(21):\n",
        "      for P in range(101):\n",
        "        if Q*25 + D*10 + N*5 + P == 100:\n",
        "          print(Q, \"quarters,\", D, \"dimes,\", N, \"nickels,\", P, \"pennies\")\n",
        "\n"
      ],
      "execution_count": 73,
      "outputs": [
        {
          "output_type": "stream",
          "text": [
            "0 quarters, 0 dimes, 0 nickels, 100 pennies\n",
            "0 quarters, 0 dimes, 1 nickels, 95 pennies\n",
            "0 quarters, 0 dimes, 2 nickels, 90 pennies\n",
            "0 quarters, 0 dimes, 3 nickels, 85 pennies\n",
            "0 quarters, 0 dimes, 4 nickels, 80 pennies\n",
            "0 quarters, 0 dimes, 5 nickels, 75 pennies\n",
            "0 quarters, 0 dimes, 6 nickels, 70 pennies\n",
            "0 quarters, 0 dimes, 7 nickels, 65 pennies\n",
            "0 quarters, 0 dimes, 8 nickels, 60 pennies\n",
            "0 quarters, 0 dimes, 9 nickels, 55 pennies\n",
            "0 quarters, 0 dimes, 10 nickels, 50 pennies\n",
            "0 quarters, 0 dimes, 11 nickels, 45 pennies\n",
            "0 quarters, 0 dimes, 12 nickels, 40 pennies\n",
            "0 quarters, 0 dimes, 13 nickels, 35 pennies\n",
            "0 quarters, 0 dimes, 14 nickels, 30 pennies\n",
            "0 quarters, 0 dimes, 15 nickels, 25 pennies\n",
            "0 quarters, 0 dimes, 16 nickels, 20 pennies\n",
            "0 quarters, 0 dimes, 17 nickels, 15 pennies\n",
            "0 quarters, 0 dimes, 18 nickels, 10 pennies\n",
            "0 quarters, 0 dimes, 19 nickels, 5 pennies\n",
            "0 quarters, 0 dimes, 20 nickels, 0 pennies\n",
            "0 quarters, 1 dimes, 0 nickels, 90 pennies\n",
            "0 quarters, 1 dimes, 1 nickels, 85 pennies\n",
            "0 quarters, 1 dimes, 2 nickels, 80 pennies\n",
            "0 quarters, 1 dimes, 3 nickels, 75 pennies\n",
            "0 quarters, 1 dimes, 4 nickels, 70 pennies\n",
            "0 quarters, 1 dimes, 5 nickels, 65 pennies\n",
            "0 quarters, 1 dimes, 6 nickels, 60 pennies\n",
            "0 quarters, 1 dimes, 7 nickels, 55 pennies\n",
            "0 quarters, 1 dimes, 8 nickels, 50 pennies\n",
            "0 quarters, 1 dimes, 9 nickels, 45 pennies\n",
            "0 quarters, 1 dimes, 10 nickels, 40 pennies\n",
            "0 quarters, 1 dimes, 11 nickels, 35 pennies\n",
            "0 quarters, 1 dimes, 12 nickels, 30 pennies\n",
            "0 quarters, 1 dimes, 13 nickels, 25 pennies\n",
            "0 quarters, 1 dimes, 14 nickels, 20 pennies\n",
            "0 quarters, 1 dimes, 15 nickels, 15 pennies\n",
            "0 quarters, 1 dimes, 16 nickels, 10 pennies\n",
            "0 quarters, 1 dimes, 17 nickels, 5 pennies\n",
            "0 quarters, 1 dimes, 18 nickels, 0 pennies\n",
            "0 quarters, 2 dimes, 0 nickels, 80 pennies\n",
            "0 quarters, 2 dimes, 1 nickels, 75 pennies\n",
            "0 quarters, 2 dimes, 2 nickels, 70 pennies\n",
            "0 quarters, 2 dimes, 3 nickels, 65 pennies\n",
            "0 quarters, 2 dimes, 4 nickels, 60 pennies\n",
            "0 quarters, 2 dimes, 5 nickels, 55 pennies\n",
            "0 quarters, 2 dimes, 6 nickels, 50 pennies\n",
            "0 quarters, 2 dimes, 7 nickels, 45 pennies\n",
            "0 quarters, 2 dimes, 8 nickels, 40 pennies\n",
            "0 quarters, 2 dimes, 9 nickels, 35 pennies\n",
            "0 quarters, 2 dimes, 10 nickels, 30 pennies\n",
            "0 quarters, 2 dimes, 11 nickels, 25 pennies\n",
            "0 quarters, 2 dimes, 12 nickels, 20 pennies\n",
            "0 quarters, 2 dimes, 13 nickels, 15 pennies\n",
            "0 quarters, 2 dimes, 14 nickels, 10 pennies\n",
            "0 quarters, 2 dimes, 15 nickels, 5 pennies\n",
            "0 quarters, 2 dimes, 16 nickels, 0 pennies\n",
            "0 quarters, 3 dimes, 0 nickels, 70 pennies\n",
            "0 quarters, 3 dimes, 1 nickels, 65 pennies\n",
            "0 quarters, 3 dimes, 2 nickels, 60 pennies\n",
            "0 quarters, 3 dimes, 3 nickels, 55 pennies\n",
            "0 quarters, 3 dimes, 4 nickels, 50 pennies\n",
            "0 quarters, 3 dimes, 5 nickels, 45 pennies\n",
            "0 quarters, 3 dimes, 6 nickels, 40 pennies\n",
            "0 quarters, 3 dimes, 7 nickels, 35 pennies\n",
            "0 quarters, 3 dimes, 8 nickels, 30 pennies\n",
            "0 quarters, 3 dimes, 9 nickels, 25 pennies\n",
            "0 quarters, 3 dimes, 10 nickels, 20 pennies\n",
            "0 quarters, 3 dimes, 11 nickels, 15 pennies\n",
            "0 quarters, 3 dimes, 12 nickels, 10 pennies\n",
            "0 quarters, 3 dimes, 13 nickels, 5 pennies\n",
            "0 quarters, 3 dimes, 14 nickels, 0 pennies\n",
            "0 quarters, 4 dimes, 0 nickels, 60 pennies\n",
            "0 quarters, 4 dimes, 1 nickels, 55 pennies\n",
            "0 quarters, 4 dimes, 2 nickels, 50 pennies\n",
            "0 quarters, 4 dimes, 3 nickels, 45 pennies\n",
            "0 quarters, 4 dimes, 4 nickels, 40 pennies\n",
            "0 quarters, 4 dimes, 5 nickels, 35 pennies\n",
            "0 quarters, 4 dimes, 6 nickels, 30 pennies\n",
            "0 quarters, 4 dimes, 7 nickels, 25 pennies\n",
            "0 quarters, 4 dimes, 8 nickels, 20 pennies\n",
            "0 quarters, 4 dimes, 9 nickels, 15 pennies\n",
            "0 quarters, 4 dimes, 10 nickels, 10 pennies\n",
            "0 quarters, 4 dimes, 11 nickels, 5 pennies\n",
            "0 quarters, 4 dimes, 12 nickels, 0 pennies\n",
            "0 quarters, 5 dimes, 0 nickels, 50 pennies\n",
            "0 quarters, 5 dimes, 1 nickels, 45 pennies\n",
            "0 quarters, 5 dimes, 2 nickels, 40 pennies\n",
            "0 quarters, 5 dimes, 3 nickels, 35 pennies\n",
            "0 quarters, 5 dimes, 4 nickels, 30 pennies\n",
            "0 quarters, 5 dimes, 5 nickels, 25 pennies\n",
            "0 quarters, 5 dimes, 6 nickels, 20 pennies\n",
            "0 quarters, 5 dimes, 7 nickels, 15 pennies\n",
            "0 quarters, 5 dimes, 8 nickels, 10 pennies\n",
            "0 quarters, 5 dimes, 9 nickels, 5 pennies\n",
            "0 quarters, 5 dimes, 10 nickels, 0 pennies\n",
            "0 quarters, 6 dimes, 0 nickels, 40 pennies\n",
            "0 quarters, 6 dimes, 1 nickels, 35 pennies\n",
            "0 quarters, 6 dimes, 2 nickels, 30 pennies\n",
            "0 quarters, 6 dimes, 3 nickels, 25 pennies\n",
            "0 quarters, 6 dimes, 4 nickels, 20 pennies\n",
            "0 quarters, 6 dimes, 5 nickels, 15 pennies\n",
            "0 quarters, 6 dimes, 6 nickels, 10 pennies\n",
            "0 quarters, 6 dimes, 7 nickels, 5 pennies\n",
            "0 quarters, 6 dimes, 8 nickels, 0 pennies\n",
            "0 quarters, 7 dimes, 0 nickels, 30 pennies\n",
            "0 quarters, 7 dimes, 1 nickels, 25 pennies\n",
            "0 quarters, 7 dimes, 2 nickels, 20 pennies\n",
            "0 quarters, 7 dimes, 3 nickels, 15 pennies\n",
            "0 quarters, 7 dimes, 4 nickels, 10 pennies\n",
            "0 quarters, 7 dimes, 5 nickels, 5 pennies\n",
            "0 quarters, 7 dimes, 6 nickels, 0 pennies\n",
            "0 quarters, 8 dimes, 0 nickels, 20 pennies\n",
            "0 quarters, 8 dimes, 1 nickels, 15 pennies\n",
            "0 quarters, 8 dimes, 2 nickels, 10 pennies\n",
            "0 quarters, 8 dimes, 3 nickels, 5 pennies\n",
            "0 quarters, 8 dimes, 4 nickels, 0 pennies\n",
            "0 quarters, 9 dimes, 0 nickels, 10 pennies\n",
            "0 quarters, 9 dimes, 1 nickels, 5 pennies\n",
            "0 quarters, 9 dimes, 2 nickels, 0 pennies\n",
            "0 quarters, 10 dimes, 0 nickels, 0 pennies\n",
            "1 quarters, 0 dimes, 0 nickels, 75 pennies\n",
            "1 quarters, 0 dimes, 1 nickels, 70 pennies\n",
            "1 quarters, 0 dimes, 2 nickels, 65 pennies\n",
            "1 quarters, 0 dimes, 3 nickels, 60 pennies\n",
            "1 quarters, 0 dimes, 4 nickels, 55 pennies\n",
            "1 quarters, 0 dimes, 5 nickels, 50 pennies\n",
            "1 quarters, 0 dimes, 6 nickels, 45 pennies\n",
            "1 quarters, 0 dimes, 7 nickels, 40 pennies\n",
            "1 quarters, 0 dimes, 8 nickels, 35 pennies\n",
            "1 quarters, 0 dimes, 9 nickels, 30 pennies\n",
            "1 quarters, 0 dimes, 10 nickels, 25 pennies\n",
            "1 quarters, 0 dimes, 11 nickels, 20 pennies\n",
            "1 quarters, 0 dimes, 12 nickels, 15 pennies\n",
            "1 quarters, 0 dimes, 13 nickels, 10 pennies\n",
            "1 quarters, 0 dimes, 14 nickels, 5 pennies\n",
            "1 quarters, 0 dimes, 15 nickels, 0 pennies\n",
            "1 quarters, 1 dimes, 0 nickels, 65 pennies\n",
            "1 quarters, 1 dimes, 1 nickels, 60 pennies\n",
            "1 quarters, 1 dimes, 2 nickels, 55 pennies\n",
            "1 quarters, 1 dimes, 3 nickels, 50 pennies\n",
            "1 quarters, 1 dimes, 4 nickels, 45 pennies\n",
            "1 quarters, 1 dimes, 5 nickels, 40 pennies\n",
            "1 quarters, 1 dimes, 6 nickels, 35 pennies\n",
            "1 quarters, 1 dimes, 7 nickels, 30 pennies\n",
            "1 quarters, 1 dimes, 8 nickels, 25 pennies\n",
            "1 quarters, 1 dimes, 9 nickels, 20 pennies\n",
            "1 quarters, 1 dimes, 10 nickels, 15 pennies\n",
            "1 quarters, 1 dimes, 11 nickels, 10 pennies\n",
            "1 quarters, 1 dimes, 12 nickels, 5 pennies\n",
            "1 quarters, 1 dimes, 13 nickels, 0 pennies\n",
            "1 quarters, 2 dimes, 0 nickels, 55 pennies\n",
            "1 quarters, 2 dimes, 1 nickels, 50 pennies\n",
            "1 quarters, 2 dimes, 2 nickels, 45 pennies\n",
            "1 quarters, 2 dimes, 3 nickels, 40 pennies\n",
            "1 quarters, 2 dimes, 4 nickels, 35 pennies\n",
            "1 quarters, 2 dimes, 5 nickels, 30 pennies\n",
            "1 quarters, 2 dimes, 6 nickels, 25 pennies\n",
            "1 quarters, 2 dimes, 7 nickels, 20 pennies\n",
            "1 quarters, 2 dimes, 8 nickels, 15 pennies\n",
            "1 quarters, 2 dimes, 9 nickels, 10 pennies\n",
            "1 quarters, 2 dimes, 10 nickels, 5 pennies\n",
            "1 quarters, 2 dimes, 11 nickels, 0 pennies\n",
            "1 quarters, 3 dimes, 0 nickels, 45 pennies\n",
            "1 quarters, 3 dimes, 1 nickels, 40 pennies\n",
            "1 quarters, 3 dimes, 2 nickels, 35 pennies\n",
            "1 quarters, 3 dimes, 3 nickels, 30 pennies\n",
            "1 quarters, 3 dimes, 4 nickels, 25 pennies\n",
            "1 quarters, 3 dimes, 5 nickels, 20 pennies\n",
            "1 quarters, 3 dimes, 6 nickels, 15 pennies\n",
            "1 quarters, 3 dimes, 7 nickels, 10 pennies\n",
            "1 quarters, 3 dimes, 8 nickels, 5 pennies\n",
            "1 quarters, 3 dimes, 9 nickels, 0 pennies\n",
            "1 quarters, 4 dimes, 0 nickels, 35 pennies\n",
            "1 quarters, 4 dimes, 1 nickels, 30 pennies\n",
            "1 quarters, 4 dimes, 2 nickels, 25 pennies\n",
            "1 quarters, 4 dimes, 3 nickels, 20 pennies\n",
            "1 quarters, 4 dimes, 4 nickels, 15 pennies\n",
            "1 quarters, 4 dimes, 5 nickels, 10 pennies\n",
            "1 quarters, 4 dimes, 6 nickels, 5 pennies\n",
            "1 quarters, 4 dimes, 7 nickels, 0 pennies\n",
            "1 quarters, 5 dimes, 0 nickels, 25 pennies\n",
            "1 quarters, 5 dimes, 1 nickels, 20 pennies\n",
            "1 quarters, 5 dimes, 2 nickels, 15 pennies\n",
            "1 quarters, 5 dimes, 3 nickels, 10 pennies\n",
            "1 quarters, 5 dimes, 4 nickels, 5 pennies\n",
            "1 quarters, 5 dimes, 5 nickels, 0 pennies\n",
            "1 quarters, 6 dimes, 0 nickels, 15 pennies\n",
            "1 quarters, 6 dimes, 1 nickels, 10 pennies\n",
            "1 quarters, 6 dimes, 2 nickels, 5 pennies\n",
            "1 quarters, 6 dimes, 3 nickels, 0 pennies\n",
            "1 quarters, 7 dimes, 0 nickels, 5 pennies\n",
            "1 quarters, 7 dimes, 1 nickels, 0 pennies\n",
            "2 quarters, 0 dimes, 0 nickels, 50 pennies\n",
            "2 quarters, 0 dimes, 1 nickels, 45 pennies\n",
            "2 quarters, 0 dimes, 2 nickels, 40 pennies\n",
            "2 quarters, 0 dimes, 3 nickels, 35 pennies\n",
            "2 quarters, 0 dimes, 4 nickels, 30 pennies\n",
            "2 quarters, 0 dimes, 5 nickels, 25 pennies\n",
            "2 quarters, 0 dimes, 6 nickels, 20 pennies\n",
            "2 quarters, 0 dimes, 7 nickels, 15 pennies\n",
            "2 quarters, 0 dimes, 8 nickels, 10 pennies\n",
            "2 quarters, 0 dimes, 9 nickels, 5 pennies\n",
            "2 quarters, 0 dimes, 10 nickels, 0 pennies\n",
            "2 quarters, 1 dimes, 0 nickels, 40 pennies\n",
            "2 quarters, 1 dimes, 1 nickels, 35 pennies\n",
            "2 quarters, 1 dimes, 2 nickels, 30 pennies\n",
            "2 quarters, 1 dimes, 3 nickels, 25 pennies\n",
            "2 quarters, 1 dimes, 4 nickels, 20 pennies\n",
            "2 quarters, 1 dimes, 5 nickels, 15 pennies\n",
            "2 quarters, 1 dimes, 6 nickels, 10 pennies\n",
            "2 quarters, 1 dimes, 7 nickels, 5 pennies\n",
            "2 quarters, 1 dimes, 8 nickels, 0 pennies\n",
            "2 quarters, 2 dimes, 0 nickels, 30 pennies\n",
            "2 quarters, 2 dimes, 1 nickels, 25 pennies\n",
            "2 quarters, 2 dimes, 2 nickels, 20 pennies\n",
            "2 quarters, 2 dimes, 3 nickels, 15 pennies\n",
            "2 quarters, 2 dimes, 4 nickels, 10 pennies\n",
            "2 quarters, 2 dimes, 5 nickels, 5 pennies\n",
            "2 quarters, 2 dimes, 6 nickels, 0 pennies\n",
            "2 quarters, 3 dimes, 0 nickels, 20 pennies\n",
            "2 quarters, 3 dimes, 1 nickels, 15 pennies\n",
            "2 quarters, 3 dimes, 2 nickels, 10 pennies\n",
            "2 quarters, 3 dimes, 3 nickels, 5 pennies\n",
            "2 quarters, 3 dimes, 4 nickels, 0 pennies\n",
            "2 quarters, 4 dimes, 0 nickels, 10 pennies\n",
            "2 quarters, 4 dimes, 1 nickels, 5 pennies\n",
            "2 quarters, 4 dimes, 2 nickels, 0 pennies\n",
            "2 quarters, 5 dimes, 0 nickels, 0 pennies\n",
            "3 quarters, 0 dimes, 0 nickels, 25 pennies\n",
            "3 quarters, 0 dimes, 1 nickels, 20 pennies\n",
            "3 quarters, 0 dimes, 2 nickels, 15 pennies\n",
            "3 quarters, 0 dimes, 3 nickels, 10 pennies\n",
            "3 quarters, 0 dimes, 4 nickels, 5 pennies\n",
            "3 quarters, 0 dimes, 5 nickels, 0 pennies\n",
            "3 quarters, 1 dimes, 0 nickels, 15 pennies\n",
            "3 quarters, 1 dimes, 1 nickels, 10 pennies\n",
            "3 quarters, 1 dimes, 2 nickels, 5 pennies\n",
            "3 quarters, 1 dimes, 3 nickels, 0 pennies\n",
            "3 quarters, 2 dimes, 0 nickels, 5 pennies\n",
            "3 quarters, 2 dimes, 1 nickels, 0 pennies\n",
            "4 quarters, 0 dimes, 0 nickels, 0 pennies\n"
          ],
          "name": "stdout"
        }
      ]
    },
    {
      "cell_type": "markdown",
      "metadata": {
        "id": "rUPDjYiIkbgs"
      },
      "source": [
        "##### Q7. Ask the user to enter two positive integers between 1 and 100. Read those integers. Then output a multiplication table of the first number times the second number. \n",
        "\n",
        "Note: You have to ensure the entered numbers are between 1 and 100 only.\n",
        "\n",
        "```\n",
        "Please enter an integer: 5\n",
        "Please enter another integer: 20\n",
        "5 x 1 = 5\n",
        "5 x 2 = 10\n",
        "5 x 3 = 15\n",
        "…\n",
        "5 x 20 = 100\n",
        "```"
      ]
    },
    {
      "cell_type": "code",
      "metadata": {
        "id": "Qg0Orv1klHzA",
        "colab": {
          "base_uri": "https://localhost:8080/"
        },
        "outputId": "81780909-f793-4f9e-81b9-c5de683febcd"
      },
      "source": [
        "# Type solution here\n",
        "valid = False\n",
        "while valid == False:\n",
        "  num_One = int(input(\"Please enter an integer: \"))\n",
        "  num_Two = int(input(\"Please enter another integer: \"))\n",
        "  if num_One < 1 or num_One > 100 or num_Two < 1 or num_Two > 100:\n",
        "    print(\"Invalid input!\")\n",
        "    valid = False\n",
        "  else: valid = True\n",
        "\n",
        "#if num_One.isdigit() and num_Two.isdigit():\n",
        "for i in range(1,num_Two+1):\n",
        "  print(str(num_One),\"x\", str(i), \"=\", str(num_One*i))\n",
        "  \n"
      ],
      "execution_count": 91,
      "outputs": [
        {
          "output_type": "stream",
          "text": [
            "Please enter an integer: 0\n",
            "Please enter another integer: 9\n",
            "Invalid input!\n",
            "Please enter an integer: 9\n",
            "Please enter another integer: 8\n",
            "9 x 1 = 9\n",
            "9 x 2 = 18\n",
            "9 x 3 = 27\n",
            "9 x 4 = 36\n",
            "9 x 5 = 45\n",
            "9 x 6 = 54\n",
            "9 x 7 = 63\n",
            "9 x 8 = 72\n"
          ],
          "name": "stdout"
        }
      ]
    },
    {
      "cell_type": "markdown",
      "metadata": {
        "id": "SbnbPUPTlLD9"
      },
      "source": [
        "##### Q8. Write a program to ask the user to enter a password. Then check to see if it is a valid password based on these requirements -\n",
        "\n",
        "Must be at least 8 characters long\n",
        "\n",
        "Must contain both uppercase and lowercase letters\n",
        "\n",
        "Must contain at least one number between 0-9\n",
        "\n",
        "Must contain a special character -!,@,#,$\n",
        "\n",
        "If the password is not valid, ask the user to re-enter. This should continue until the user enters a valid password. After a valid password is entered, print Access Granted!\n",
        "\n",
        "```\n",
        "Please enter a password. Follow these requirements - \n",
        "a. Must be at least 8 characters long\n",
        "b. Must contain both uppercase and lowercase letters\n",
        "c. Must contain at least one number between 0-9\n",
        "d. Must contain a special character -!,@,#,$\n",
        "Password: HelloWorld1\n",
        "Invalid password. Try again!\n",
        "Password: Hello@World1\n",
        "Access Granted!\n",
        "```\n"
      ]
    },
    {
      "cell_type": "code",
      "metadata": {
        "id": "OXmZ177Rl-RV",
        "colab": {
          "base_uri": "https://localhost:8080/"
        },
        "outputId": "42e39d9c-70de-405b-a2ce-b3f2ed9f9b8b"
      },
      "source": [
        "# Type solution here\n",
        "print('Please enter a password. Follow these requirements -\\na. Must be at least 8 characters long\\nb. Must contain both uppercase and lowercase letters\\nc. Must contain at least one number between 0-9\\nd. Must contain a special character -!,@,#,$')\n",
        "val = False\n",
        "while val == False:\n",
        "  password = input(\"Password: \")\n",
        "  count = 0\n",
        "  upper = False\n",
        "  lower = False\n",
        "  num = False\n",
        "  special = False\n",
        "  for i in range(0,len(password)):\n",
        "    if password[i].isupper():\n",
        "      upper = True\n",
        "    elif password[i].islower():\n",
        "      lower = True\n",
        "    elif password[i].isdigit():\n",
        "      num = True\n",
        "    elif password[i] == '@' or password[i] == '!' or password[i] == '#' or password[i] == '$':\n",
        "      special = True\n",
        "    count = count + 1\n",
        "  if count >= 8 and upper == True and lower == True and num == True and special == True:\n",
        "    val = True\n",
        "    print(\"Access Granted!\")\n",
        "  else:\n",
        "    print(\"Invalid password. Try again!\")\n",
        "  "
      ],
      "execution_count": 20,
      "outputs": [
        {
          "output_type": "stream",
          "text": [
            "Please enter a password. Follow these requirements -\n",
            "a. Must be at least 8 characters long\n",
            "b. Must contain both uppercase and lowercase letters\n",
            "c. Must contain at least one number between 0-9\n",
            "d. Must contain a special character -!,@,#,$\n",
            "Password: yahdhowvww$4\n",
            "Invalid password. Try again!\n",
            "Password: skafnlivboiwvQ4$\n",
            "Access Granted!\n"
          ],
          "name": "stdout"
        }
      ]
    },
    {
      "cell_type": "markdown",
      "metadata": {
        "id": "-0sdutTDnTKA"
      },
      "source": [
        "##### Q9. Given the score sheet of participants in a competition, you are required to find the runner-up score. You are given scores in a list. Find the score of the runner-up.\n",
        "\n",
        "```\n",
        "list1 - [2, 3, 6, 6, 5]\n",
        "runner_up - 5\n",
        "\n",
        "list2 - [1, 7, 5, 3, 10, 4, 5, 5, 6, 11]\n",
        "runner_up - 10\n",
        "```"
      ]
    },
    {
      "cell_type": "code",
      "metadata": {
        "id": "12YP9OaqpGRK",
        "colab": {
          "base_uri": "https://localhost:8080/"
        },
        "outputId": "a59c299f-b44b-4de9-bd25-69d733143c5a"
      },
      "source": [
        "# Type solution here\n",
        "list1 = [2, 3, 6, 6, 5]\n",
        "list1.sort(reverse=True)\n",
        "runner_up = sorted(set(list1))[-2]\n",
        "print(\"runner_up - \" + str(runner_up) )\n",
        "\n",
        "list2 = [1, 7, 5, 3, 10, 4, 5, 5, 6, 11]\n",
        "list2.sort(reverse=True)\n",
        "runner_up_2 = sorted(set(list2))[-2]\n",
        "print(\"runner_up - \" + str(runner_up_2))"
      ],
      "execution_count": 30,
      "outputs": [
        {
          "output_type": "stream",
          "text": [
            "runner_up - 5\n",
            "runner_up - 10\n"
          ],
          "name": "stdout"
        }
      ]
    }
  ]
}